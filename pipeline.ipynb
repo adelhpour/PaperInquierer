{
 "cells": [
  {
   "cell_type": "markdown",
   "source": [
    "# How to use Retrieval Augmented Generation (RAG) to improve the performance of a chatbot on questions related to SBML models?"
   ],
   "metadata": {
    "collapsed": false
   },
   "id": "3557b73ff3fc2f71"
  },
  {
   "cell_type": "markdown",
   "source": [
    "## Using chatbots to ask questions\n",
    "<img src=\"./resources/simple_prompt.png\" alt=\"Simple Prompt\" width=\"2500\"/>"
   ],
   "metadata": {
    "collapsed": false
   },
   "id": "63a1145b46d25e35"
  },
  {
   "cell_type": "code",
   "outputs": [
    {
     "data": {
      "text/plain": "True"
     },
     "execution_count": 1,
     "metadata": {},
     "output_type": "execute_result"
    }
   ],
   "source": [
    "# loading open ai api key\n",
    "from dotenv import load_dotenv\n",
    "\n",
    "load_dotenv()"
   ],
   "metadata": {
    "collapsed": false,
    "ExecuteTime": {
     "end_time": "2024-03-27T20:10:59.267554Z",
     "start_time": "2024-03-27T20:10:59.257577Z"
    }
   },
   "id": "dbed3d9246f4c4c1",
   "execution_count": 1
  },
  {
   "cell_type": "markdown",
   "source": [
    "#### Example: Asking a question from a chatbot on a generic topic\n",
    "\n",
    "Question: \"What is the capital of the U.S.?\""
   ],
   "metadata": {
    "collapsed": false
   },
   "id": "7f76fb8e00a64066"
  },
  {
   "cell_type": "code",
   "outputs": [
    {
     "ename": "OpenAIError",
     "evalue": "The api_key client option must be set either by passing api_key to the client or by setting the OPENAI_API_KEY environment variable",
     "output_type": "error",
     "traceback": [
      "\u001B[0;31m---------------------------------------------------------------------------\u001B[0m",
      "\u001B[0;31mOpenAIError\u001B[0m                               Traceback (most recent call last)",
      "Cell \u001B[0;32mIn[1], line 2\u001B[0m\n\u001B[1;32m      1\u001B[0m \u001B[38;5;28;01mfrom\u001B[39;00m \u001B[38;5;21;01mopenai\u001B[39;00m \u001B[38;5;28;01mimport\u001B[39;00m OpenAI\n\u001B[0;32m----> 2\u001B[0m client \u001B[38;5;241m=\u001B[39m \u001B[43mOpenAI\u001B[49m\u001B[43m(\u001B[49m\u001B[43m)\u001B[49m\n\u001B[1;32m      4\u001B[0m question \u001B[38;5;241m=\u001B[39m \u001B[38;5;124m\"\u001B[39m\u001B[38;5;124mWhat is the capital of the U.S.?\u001B[39m\u001B[38;5;124m\"\u001B[39m\n\u001B[1;32m      5\u001B[0m prompt \u001B[38;5;241m=\u001B[39m question\n",
      "File \u001B[0;32m~/Documents/Projects/Tests/llm/pythonProject/.venv/lib/python3.11/site-packages/openai/_client.py:98\u001B[0m, in \u001B[0;36mOpenAI.__init__\u001B[0;34m(self, api_key, organization, base_url, timeout, max_retries, default_headers, default_query, http_client, _strict_response_validation)\u001B[0m\n\u001B[1;32m     96\u001B[0m     api_key \u001B[38;5;241m=\u001B[39m os\u001B[38;5;241m.\u001B[39menviron\u001B[38;5;241m.\u001B[39mget(\u001B[38;5;124m\"\u001B[39m\u001B[38;5;124mOPENAI_API_KEY\u001B[39m\u001B[38;5;124m\"\u001B[39m)\n\u001B[1;32m     97\u001B[0m \u001B[38;5;28;01mif\u001B[39;00m api_key \u001B[38;5;129;01mis\u001B[39;00m \u001B[38;5;28;01mNone\u001B[39;00m:\n\u001B[0;32m---> 98\u001B[0m     \u001B[38;5;28;01mraise\u001B[39;00m OpenAIError(\n\u001B[1;32m     99\u001B[0m         \u001B[38;5;124m\"\u001B[39m\u001B[38;5;124mThe api_key client option must be set either by passing api_key to the client or by setting the OPENAI_API_KEY environment variable\u001B[39m\u001B[38;5;124m\"\u001B[39m\n\u001B[1;32m    100\u001B[0m     )\n\u001B[1;32m    101\u001B[0m \u001B[38;5;28mself\u001B[39m\u001B[38;5;241m.\u001B[39mapi_key \u001B[38;5;241m=\u001B[39m api_key\n\u001B[1;32m    103\u001B[0m \u001B[38;5;28;01mif\u001B[39;00m organization \u001B[38;5;129;01mis\u001B[39;00m \u001B[38;5;28;01mNone\u001B[39;00m:\n",
      "\u001B[0;31mOpenAIError\u001B[0m: The api_key client option must be set either by passing api_key to the client or by setting the OPENAI_API_KEY environment variable"
     ]
    }
   ],
   "source": [
    "from openai import OpenAI\n",
    "client = OpenAI()\n",
    "\n",
    "question = \"What is the capital of the U.S.?\"\n",
    "prompt = question\n",
    "\n",
    "completion = client.chat.completions.create(\n",
    "  model=\"gpt-3.5-turbo\",\n",
    "  messages=[\n",
    "    {\"role\": \"user\", \"content\": prompt}\n",
    "  ]\n",
    ")\n",
    "\n",
    "print(completion.choices[0].message.content)"
   ],
   "metadata": {
    "collapsed": false,
    "ExecuteTime": {
     "end_time": "2024-03-27T19:57:56.938605Z",
     "start_time": "2024-03-27T19:57:56.686576Z"
    }
   },
   "id": "f011db1ce243bf44",
   "execution_count": 1
  },
  {
   "cell_type": "markdown",
   "source": [
    " #### Asking a question from a chatbot on a non-generic topic\n",
    "\n",
    "Question: \"Who is my PI?\""
   ],
   "metadata": {
    "collapsed": false
   },
   "id": "4e6806660a2ff3bc"
  },
  {
   "cell_type": "code",
   "outputs": [
    {
     "name": "stdout",
     "output_type": "stream",
     "text": [
      "I'm sorry, I don't have access to that information. Please contact your institution or research program for assistance with identifying your PI.\n"
     ]
    }
   ],
   "source": [
    "from openai import OpenAI\n",
    "client = OpenAI()\n",
    "\n",
    "question = \"Who is my PI?\"\n",
    "prompt = question\n",
    "\n",
    "completion = client.chat.completions.create(\n",
    "  model=\"gpt-3.5-turbo\",\n",
    "  messages=[\n",
    "    {\"role\": \"user\", \"content\": prompt}\n",
    "  ]\n",
    ")\n",
    "\n",
    "print(completion.choices[0].message.content)"
   ],
   "metadata": {
    "collapsed": false,
    "ExecuteTime": {
     "end_time": "2024-03-27T18:38:02.722627Z",
     "start_time": "2024-03-27T18:38:01.298544Z"
    }
   },
   "id": "545715b4c0487940",
   "execution_count": 3
  },
  {
   "cell_type": "markdown",
   "source": [
    "## Adding Context (prompt before the prompt)\n",
    "<img src=\"./resources/prompt_before_prompt.png\" alt=\"Prompt Before Prompt\" width=\"2500\"/>"
   ],
   "metadata": {
    "collapsed": false
   },
   "id": "ce4c94a00124116"
  },
  {
   "cell_type": "markdown",
   "source": [
    "#### Example: Adding context to a question on a non-generic topic and then asking it from a chatbot\n",
    "Context: \"My PI is Prof. Herbert Sauro.\"\n",
    "Question: \"Who is my PI?\""
   ],
   "metadata": {
    "collapsed": false
   },
   "id": "9a5a10a586dad0ce"
  },
  {
   "cell_type": "code",
   "outputs": [
    {
     "name": "stdout",
     "output_type": "stream",
     "text": [
      "Your PI is Prof. Herbert Sauro.\n"
     ]
    }
   ],
   "source": [
    "context = \"My PI is Prof. Herbert Sauro.\"\n",
    "question = \"Who is my PI?\"\n",
    "prompt = context + \" \" + question\n",
    "\n",
    "completion = client.chat.completions.create(\n",
    "  model=\"gpt-3.5-turbo\",\n",
    "  messages=[\n",
    "    {\"role\": \"user\", \"content\": prompt}\n",
    "  ]\n",
    ")\n",
    "\n",
    "print(completion.choices[0].message.content)"
   ],
   "metadata": {
    "collapsed": false,
    "ExecuteTime": {
     "end_time": "2024-03-27T18:38:16.441002Z",
     "start_time": "2024-03-27T18:38:15.694388Z"
    }
   },
   "id": "7017894b135743f2",
   "execution_count": 4
  },
  {
   "cell_type": "markdown",
   "source": [
    "## Retrieval Augmented Generation (RAG)\n",
    "RAG lets language models fetch relevant knowledge documents and then generate a response based on the fetched documents.\n",
    "\n",
    "<img src=\"./resources/feed_with_documents.png\" alt=\"Feed With Documents\" width=\"2500\"/>"
   ],
   "metadata": {
    "collapsed": false
   },
   "id": "5dffe700e4c39b17"
  },
  {
   "cell_type": "markdown",
   "source": [
    "### How does RAG work?\n",
    "<img src=\"./resources/architecture.png\" alt=\"Architecture\" width=\"2500\"/>"
   ],
   "metadata": {
    "collapsed": false
   },
   "id": "3cc7fdcd77d20353"
  },
  {
   "cell_type": "markdown",
   "source": [
    "### Tools Selection\n",
    "##### Language Model\n",
    "##### Embeddings\n",
    "##### Vector Store\n",
    "\n",
    "<img src=\"./resources/tools_selection.png\" alt=\"Tools Selection\" width=\"2500\"/>"
   ],
   "metadata": {
    "collapsed": false
   },
   "id": "56fbeac4e5b88fc2"
  },
  {
   "cell_type": "markdown",
   "source": [
    "## SBML Use Case\n",
    "Using an antimony model and antimony specifications to answer a question about the model."
   ],
   "metadata": {
    "collapsed": false
   },
   "id": "af75551363a69ee0"
  },
  {
   "cell_type": "code",
   "outputs": [],
   "source": [
    "import paperinquirer\n",
    "\n",
    "model_dir = \"./data/antimony\"\n",
    "inquirer = paperinquirer.PaperInquirer([model_dir])"
   ],
   "metadata": {
    "collapsed": false,
    "ExecuteTime": {
     "end_time": "2024-03-27T20:11:08.391419Z",
     "start_time": "2024-03-27T20:11:04.952926Z"
    }
   },
   "id": "2b518f85fe26a19f",
   "execution_count": 2
  },
  {
   "cell_type": "code",
   "outputs": [
    {
     "name": "stdout",
     "output_type": "stream",
     "text": [
      "\u001B[1;3;38;5;200mThought: To answer this question, I can use the Pritchard2002_glycolysis tool to retrieve the list of species in the model.\n",
      "Action: Pritchard2002_glycolysis\n",
      "Action Input: {'input': 'list_species'}\n",
      "\u001B[0m\u001B[1;3;34mObservation: GLCo, GLCi, ATP, G6P, ADP, F6P, F16bP, AMP, F26bP, DHAP, GAP, NAD, BPG, NADH, P3G, P2G, PEP, PYR, AcAld, CO2, EtOH, Glycerol, Glycogen, Trehalose, Succinate\n",
      "\u001B[0m\u001B[1;3;38;5;200mThought: I have retrieved the list of species in the Pritchard2002_glycolysis model.\n",
      "Answer: The list of species in the Pritchard2002_glycolysis model includes GLCo, GLCi, ATP, G6P, ADP, F6P, F16bP, AMP, F26bP, DHAP, GAP, NAD, BPG, NADH, P3G, P2G, PEP, PYR, AcAld, CO2, EtOH, Glycerol, Glycogen, Trehalose, and Succinate.\n",
      "\u001B[0mThe list of species in the Pritchard2002_glycolysis model includes GLCo, GLCi, ATP, G6P, ADP, F6P, F16bP, AMP, F26bP, DHAP, GAP, NAD, BPG, NADH, P3G, P2G, PEP, PYR, AcAld, CO2, EtOH, Glycerol, Glycogen, Trehalose, and Succinate.\n"
     ]
    }
   ],
   "source": [
    "print(inquirer.inquire(\"What is the list of species in Pritchard2002_glycolysis?\"))"
   ],
   "metadata": {
    "collapsed": false,
    "ExecuteTime": {
     "end_time": "2024-03-27T20:13:00.310070Z",
     "start_time": "2024-03-27T20:12:52.259225Z"
    }
   },
   "id": "79c8504c81a2d125",
   "execution_count": 6
  },
  {
   "cell_type": "code",
   "outputs": [
    {
     "name": "stdout",
     "output_type": "stream",
     "text": [
      "\u001B[1;3;38;5;200mThought: To answer this question, I can use the Pritchard2002_glycolysis tool to obtain the list of reactions in the model.\n",
      "Action: Pritchard2002_glycolysis\n",
      "Action Input: {'input': 'list_of_reactions'}\n",
      "\u001B[0m\u001B[1;3;34mObservation: The list of reactions mentioned in the context includes:\n",
      "- HK: http://identifiers.org/kegg.reaction/R02848\n",
      "- PGI: http://identifiers.org/kegg.reaction/R00771\n",
      "- PFK: http://identifiers.org/kegg.reaction/R00756\n",
      "- ALD: http://identifiers.org/kegg.reaction/R01068\n",
      "- TPI: http://identifiers.org/kegg.reaction/R01015\n",
      "- GAPDH: http://identifiers.org/kegg.reaction/R01061\n",
      "- PGK: http://identifiers.org/kegg.reaction/R01512\n",
      "- PGM: http://identifiers.org/kegg.reaction/R01518\n",
      "- ENO: http://identifiers.org/kegg.reaction/R00658\n",
      "- PYK: http://identifiers.org/kegg.reaction/R00200\n",
      "- PDC: http://identifiers.org/kegg.reaction/R00636\n",
      "- ADH: http://identifiers.org/kegg.reaction/R00754\n",
      "- AK: http://identifiers.org/kegg.reaction/R00127\n",
      "- G3PDH: http://identifiers.org/kegg.reaction/R00842, http://identifiers.org/kegg.reaction/R07298\n",
      "\u001B[0m\u001B[1;3;38;5;200mThought: I have obtained the list of reactions in the model.\n",
      "Answer: The list of reactions in the model includes:\n",
      "- HK: http://identifiers.org/kegg.reaction/R02848\n",
      "- PGI: http://identifiers.org/kegg.reaction/R00771\n",
      "- PFK: http://identifiers.org/kegg.reaction/R00756\n",
      "- ALD: http://identifiers.org/kegg.reaction/R01068\n",
      "- TPI: http://identifiers.org/kegg.reaction/R01015\n",
      "- GAPDH: http://identifiers.org/kegg.reaction/R01061\n",
      "- PGK: http://identifiers.org/kegg.reaction/R01512\n",
      "- PGM: http://identifiers.org/kegg.reaction/R01518\n",
      "- ENO: http://identifiers.org/kegg.reaction/R00658\n",
      "- PYK: http://identifiers.org/kegg.reaction/R00200\n",
      "- PDC: http://identifiers.org/kegg.reaction/R00636\n",
      "- ADH: http://identifiers.org/kegg.reaction/R00754\n",
      "- AK: http://identifiers.org/kegg.reaction/R00127\n",
      "- G3PDH: http://identifiers.org/kegg.reaction/R00842, http://identifiers.org/kegg.reaction/R07298\n",
      "\u001B[0mThe list of reactions in the model includes:\n",
      "- HK: http://identifiers.org/kegg.reaction/R02848\n",
      "- PGI: http://identifiers.org/kegg.reaction/R00771\n",
      "- PFK: http://identifiers.org/kegg.reaction/R00756\n",
      "- ALD: http://identifiers.org/kegg.reaction/R01068\n",
      "- TPI: http://identifiers.org/kegg.reaction/R01015\n",
      "- GAPDH: http://identifiers.org/kegg.reaction/R01061\n",
      "- PGK: http://identifiers.org/kegg.reaction/R01512\n",
      "- PGM: http://identifiers.org/kegg.reaction/R01518\n",
      "- ENO: http://identifiers.org/kegg.reaction/R00658\n",
      "- PYK: http://identifiers.org/kegg.reaction/R00200\n",
      "- PDC: http://identifiers.org/kegg.reaction/R00636\n",
      "- ADH: http://identifiers.org/kegg.reaction/R00754\n",
      "- AK: http://identifiers.org/kegg.reaction/R00127\n",
      "- G3PDH: http://identifiers.org/kegg.reaction/R00842, http://identifiers.org/kegg.reaction/R07298\n"
     ]
    }
   ],
   "source": [
    "print(inquirer.inquire(\"What is the list of reactions in this model?\"))"
   ],
   "metadata": {
    "collapsed": false,
    "ExecuteTime": {
     "end_time": "2024-03-27T20:12:38.436484Z",
     "start_time": "2024-03-27T20:12:25.192974Z"
    }
   },
   "id": "4037caf22abf987",
   "execution_count": 5
  },
  {
   "cell_type": "code",
   "outputs": [
    {
     "name": "stdout",
     "output_type": "stream",
     "text": [
      "\u001B[1;3;38;5;200mThought: I need to use the Pritchard2002_glycolysis tool to find the kinetic law for PGI.\n",
      "Action: Pritchard2002_glycolysis\n",
      "Action Input: {'input': 'kinetic law for PGI'}\n",
      "\u001B[0m\u001B[1;3;34mObservation: The kinetic law for PGI is cell*PGI_Vmax_4*(G6P/PGI_Kg6p_4 - F6P/(PGI_Kg6p_4*PGI_Keq_4))/(1 + G6P/PGI_Kg6p_4 + F6P/PGI_Kf6p_4 + G6P*F6P/(PGI_Kg6p_4*PGI_Kif6p_4) + F6P*G6P/(PGI_Kf6p_4*PGI_Kig6p_4)).\n",
      "\u001B[0m\u001B[1;3;38;5;200mThought: I have found the kinetic law for PGI using the Pritchard2002_glycolysis tool.\n",
      "Answer: The kinetic law for PGI is cell*PGI_Vmax_4*(G6P/PGI_Kg6p_4 - F6P/(PGI_Kg6p_4*PGI_Keq_4))/(1 + G6P/PGI_Kg6p_4 + F6P/PGI_Kf6p_4 + G6P*F6P/(PGI_Kg6p_4*PGI_Kif6p_4) + F6P*G6P/(PGI_Kf6p_4*PGI_Kig6p_4)).\n",
      "\u001B[0mThe kinetic law for PGI is cell*PGI_Vmax_4*(G6P/PGI_Kg6p_4 - F6P/(PGI_Kg6p_4*PGI_Keq_4))/(1 + G6P/PGI_Kg6p_4 + F6P/PGI_Kf6p_4 + G6P*F6P/(PGI_Kg6p_4*PGI_Kif6p_4) + F6P*G6P/(PGI_Kf6p_4*PGI_Kig6p_4)).\n"
     ]
    }
   ],
   "source": [
    "print(inquirer.inquire(\"What is the kinetic law for PGI?\"))"
   ],
   "metadata": {
    "collapsed": false,
    "ExecuteTime": {
     "end_time": "2024-03-27T20:11:21.133050Z",
     "start_time": "2024-03-27T20:11:12.948472Z"
    }
   },
   "id": "f425c3e7eb786395",
   "execution_count": 3
  },
  {
   "cell_type": "code",
   "outputs": [],
   "source": [],
   "metadata": {
    "collapsed": false
   },
   "id": "df3e72f003c5d0c2"
  }
 ],
 "metadata": {
  "kernelspec": {
   "display_name": "Python 3",
   "language": "python",
   "name": "python3"
  },
  "language_info": {
   "codemirror_mode": {
    "name": "ipython",
    "version": 2
   },
   "file_extension": ".py",
   "mimetype": "text/x-python",
   "name": "python",
   "nbconvert_exporter": "python",
   "pygments_lexer": "ipython2",
   "version": "2.7.6"
  }
 },
 "nbformat": 4,
 "nbformat_minor": 5
}
