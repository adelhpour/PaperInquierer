{
 "cells": [
  {
   "cell_type": "markdown",
   "source": [
    "# How to use Retrieval Augmented Generation (RAG) technique to improve the performance of a chatbot on questions on an SBML model?"
   ],
   "metadata": {
    "collapsed": false
   },
   "id": "3557b73ff3fc2f71"
  },
  {
   "cell_type": "markdown",
   "source": [
    "## Using chatbots to ask questions\n",
    "<img src=\"./resources/simple_prompt.png\" alt=\"Simple Prompt\" width=\"2500\"/>"
   ],
   "metadata": {
    "collapsed": false
   },
   "id": "63a1145b46d25e35"
  },
  {
   "cell_type": "markdown",
   "source": [
    "#### Example: Asking a question from a chatbot on a generic topic\n",
    "\n",
    "Question: \"What is the capital of the U.S.?\""
   ],
   "metadata": {
    "collapsed": false
   },
   "id": "7f76fb8e00a64066"
  },
  {
   "cell_type": "code",
   "outputs": [
    {
     "data": {
      "text/plain": "True"
     },
     "execution_count": 1,
     "metadata": {},
     "output_type": "execute_result"
    }
   ],
   "source": [
    "# loading open ai api key\n",
    "from dotenv import load_dotenv\n",
    "\n",
    "load_dotenv()"
   ],
   "metadata": {
    "collapsed": false,
    "ExecuteTime": {
     "end_time": "2024-03-28T00:30:09.406874Z",
     "start_time": "2024-03-28T00:30:09.399838Z"
    }
   },
   "id": "dd07983b8c0d7a2c",
   "execution_count": 1
  },
  {
   "cell_type": "code",
   "outputs": [
    {
     "name": "stdout",
     "output_type": "stream",
     "text": [
      "The capital of the U.S. is Washington, D.C.\n"
     ]
    }
   ],
   "source": [
    "from openai import OpenAI\n",
    "client = OpenAI()\n",
    "\n",
    "\n",
    "question = \"What is the capital of the U.S.?\"\n",
    "prompt = question\n",
    "\n",
    "completion = client.chat.completions.create(\n",
    "  model=\"gpt-3.5-turbo\",\n",
    "  messages=[\n",
    "    {\"role\": \"user\", \"content\": prompt}\n",
    "  ]\n",
    ")\n",
    "\n",
    "print(completion.choices[0].message.content)"
   ],
   "metadata": {
    "collapsed": false,
    "ExecuteTime": {
     "end_time": "2024-03-27T23:47:29.863590Z",
     "start_time": "2024-03-27T23:47:29.305654Z"
    }
   },
   "id": "f011db1ce243bf44",
   "execution_count": 2
  },
  {
   "cell_type": "markdown",
   "source": [
    " #### Asking a question from a chatbot on a non-generic topic\n",
    "\n",
    "Question: \"Who are my audience for this presentation?\""
   ],
   "metadata": {
    "collapsed": false
   },
   "id": "4e6806660a2ff3bc"
  },
  {
   "cell_type": "code",
   "outputs": [
    {
     "name": "stdout",
     "output_type": "stream",
     "text": [
      "It is important to identify the target audience for your presentation in order to tailor the content and delivery method to best suit their needs and preferences. The audience for your presentation could vary depending on the topic, but some potential audiences could include:\n",
      "\n",
      "1. Colleagues or peers within your organization\n",
      "2. Clients or customers\n",
      "3. Industry professionals\n",
      "4. Students or academic professionals\n",
      "5. Investors or stakeholders\n",
      "6. General public\n",
      "\n",
      "Consider the background, knowledge level, interests, and preferences of your audience when planning your presentation to ensure it is engaging and informative for them.\n"
     ]
    }
   ],
   "source": [
    "from openai import OpenAI\n",
    "client = OpenAI()\n",
    "\n",
    "question = \"Who are my audience for this presentation?\"\n",
    "prompt = question\n",
    "\n",
    "completion = client.chat.completions.create(\n",
    "  model=\"gpt-3.5-turbo\",\n",
    "  messages=[\n",
    "    {\"role\": \"user\", \"content\": prompt}\n",
    "  ]\n",
    ")\n",
    "\n",
    "print(completion.choices[0].message.content)"
   ],
   "metadata": {
    "collapsed": false,
    "ExecuteTime": {
     "end_time": "2024-03-28T00:40:40.717558Z",
     "start_time": "2024-03-28T00:40:39.099909Z"
    }
   },
   "id": "545715b4c0487940",
   "execution_count": 19
  },
  {
   "cell_type": "markdown",
   "source": [
    "## Adding Context (prompt before the prompt)\n",
    "<img src=\"./resources/prompt_before_prompt.png\" alt=\"Prompt Before Prompt\" width=\"2500\"/>"
   ],
   "metadata": {
    "collapsed": false
   },
   "id": "ce4c94a00124116"
  },
  {
   "cell_type": "markdown",
   "source": [
    "#### Example: Adding context to a question on a non-generic topic and then asking it from a chatbot\n",
    "Context: \"I am giving this presentation to the sys-bio group meeting.\"\n",
    "Question: \"Who are my audience for this presentation?\""
   ],
   "metadata": {
    "collapsed": false
   },
   "id": "9a5a10a586dad0ce"
  },
  {
   "cell_type": "code",
   "outputs": [
    {
     "name": "stdout",
     "output_type": "stream",
     "text": [
      "Your audience for this presentation would be the members of the sys-bio group meeting, which likely includes researchers, scientists, and experts in the field of systems biology. They may have a background in biology, bioinformatics, computational biology, mathematics, or related fields, and have an interest in understanding complex biological systems at a systems-level. They are likely interested in the latest research, advancements, and technologies in systems biology.\n"
     ]
    }
   ],
   "source": [
    "context = \"I am giving this presentation to the sys-bio group meeting.\"\n",
    "question = \"Who are my audience for this presentation?\"\n",
    "prompt = context + \" \" + question\n",
    "\n",
    "completion = client.chat.completions.create(\n",
    "  model=\"gpt-3.5-turbo\",\n",
    "  messages=[\n",
    "    {\"role\": \"user\", \"content\": prompt}\n",
    "  ]\n",
    ")\n",
    "\n",
    "print(completion.choices[0].message.content)"
   ],
   "metadata": {
    "collapsed": false,
    "ExecuteTime": {
     "end_time": "2024-03-28T00:42:12.439663Z",
     "start_time": "2024-03-28T00:42:10.964084Z"
    }
   },
   "id": "7017894b135743f2",
   "execution_count": 20
  },
  {
   "cell_type": "markdown",
   "source": [
    "## Retrieval Augmented Generation (RAG)\n",
    "RAG lets language models fetch relevant knowledge documents and then generate a response based on the fetched documents.\n",
    "\n",
    "<img src=\"./resources/feed_with_documents.png\" alt=\"Feed With Documents\" width=\"2500\"/>"
   ],
   "metadata": {
    "collapsed": false
   },
   "id": "5dffe700e4c39b17"
  },
  {
   "cell_type": "markdown",
   "source": [
    "### How does RAG work?\n",
    "<img src=\"./resources/architecture.png\" alt=\"Architecture\" width=\"2500\"/>"
   ],
   "metadata": {
    "collapsed": false
   },
   "id": "3cc7fdcd77d20353"
  },
  {
   "cell_type": "markdown",
   "source": [
    "### What makes a difference in RAG?\n",
    "##### Documents\n",
    "##### Language Model\n",
    "##### Embeddings\n",
    "##### Vector Store\n",
    "\n",
    "<img src=\"./resources/tools_selection.png\" alt=\"Tools Selection\" width=\"2500\"/>"
   ],
   "metadata": {
    "collapsed": false
   },
   "id": "56fbeac4e5b88fc2"
  },
  {
   "cell_type": "markdown",
   "source": [
    "## SBML Use Case\n",
    "Asking questions on an SBML model using:\n",
    "- an antimony model\n",
    "- some very basic instructions on antimony syntax"
   ],
   "metadata": {
    "collapsed": false
   },
   "id": "af75551363a69ee0"
  },
  {
   "cell_type": "code",
   "outputs": [],
   "source": [
    "import paperinquirer\n",
    "\n",
    "model_dir = \"./data/antimony\"\n",
    "inquirer = paperinquirer.PaperInquirer([model_dir])"
   ],
   "metadata": {
    "collapsed": false,
    "ExecuteTime": {
     "end_time": "2024-03-28T00:30:16.257174Z",
     "start_time": "2024-03-28T00:30:14.320322Z"
    }
   },
   "id": "2b518f85fe26a19f",
   "execution_count": 2
  },
  {
   "cell_type": "code",
   "outputs": [
    {
     "name": "stdout",
     "output_type": "stream",
     "text": [
      "\u001B[1;3;38;5;200mThought: I need to use the Pritchard2002_glycolysis_model tool to get the list of species in the Pritchard2002_glycolysis model.\n",
      "Action: Pritchard2002_glycolysis_model\n",
      "Action Input: {'input': 'list_species'}\n",
      "\u001B[0m\u001B[1;3;34mObservation: GLCo, GLCi, ATP, G6P, ADP, F6P, F16bP, AMP, F26bP, DHAP, GAP, NAD, BPG, NADH, P3G, P2G, PEP, PYR, AcAld, CO2, EtOH, Glycerol, Glycogen, Trehalose, Succinate\n",
      "\u001B[0m\u001B[1;3;38;5;200mThought: I have successfully obtained the list of species in the Pritchard2002_glycolysis model.\n",
      "Answer: The list of species in the Pritchard2002_glycolysis model is: GLCo, GLCi, ATP, G6P, ADP, F6P, F16bP, AMP, F26bP, DHAP, GAP, NAD, BPG, NADH, P3G, P2G, PEP, PYR, AcAld, CO2, EtOH, Glycerol, Glycogen, Trehalose, Succinate.\n",
      "\u001B[0mThe list of species in the Pritchard2002_glycolysis model is: GLCo, GLCi, ATP, G6P, ADP, F6P, F16bP, AMP, F26bP, DHAP, GAP, NAD, BPG, NADH, P3G, P2G, PEP, PYR, AcAld, CO2, EtOH, Glycerol, Glycogen, Trehalose, Succinate.\n"
     ]
    }
   ],
   "source": [
    "print(inquirer.inquire(\"What is the list of species in Pritchard2002_glycolysis?\"))"
   ],
   "metadata": {
    "collapsed": false,
    "ExecuteTime": {
     "end_time": "2024-03-27T23:52:21.510788Z",
     "start_time": "2024-03-27T23:52:16.759093Z"
    }
   },
   "id": "79c8504c81a2d125",
   "execution_count": 3
  },
  {
   "cell_type": "code",
   "outputs": [
    {
     "name": "stdout",
     "output_type": "stream",
     "text": [
      "\u001B[1;3;38;5;200mThought: To find the list of reactions in the Pritchard2002_glycolysis model, I can use the Pritchard2002_glycolysis_model tool.\n",
      "Action: Pritchard2002_glycolysis_model\n",
      "Action Input: {'input': 'list_reactions'}\n",
      "\u001B[0m\u001B[1;3;34mObservation: The reactions listed in the provided context are:\n",
      "1. HK (Hexokinase)\n",
      "2. PGI (Phosphoglucose isomerase)\n",
      "3. PFK (Phosphofructokinase)\n",
      "4. ALD (Aldolase)\n",
      "5. TPI (Triosephosphate isomerase)\n",
      "6. GAPDH (Glyceraldehyde-3-phosphate dehydrogenase)\n",
      "7. PGK (Phosphoglycerate kinase)\n",
      "8. PGM (Phosphoglycerate mutase)\n",
      "9. ENO (Enolase)\n",
      "10. PYK (Pyruvate kinase)\n",
      "11. PDC (Pyruvate decarboxylase)\n",
      "12. ADH (Alcohol dehydrogenase)\n",
      "13. ATPase\n",
      "14. AK (Adenylate kinase)\n",
      "15. G3PDH (Glyceraldehyde-3-phosphate dehydrogenase)\n",
      "\u001B[0m\u001B[1;3;38;5;200mThought: I have obtained the list of reactions in the Pritchard2002_glycolysis model.\n",
      "Answer: The list of reactions in the Pritchard2002_glycolysis model are:\n",
      "1. HK (Hexokinase)\n",
      "2. PGI (Phosphoglucose isomerase)\n",
      "3. PFK (Phosphofructokinase)\n",
      "4. ALD (Aldolase)\n",
      "5. TPI (Triosephosphate isomerase)\n",
      "6. GAPDH (Glyceraldehyde-3-phosphate dehydrogenase)\n",
      "7. PGK (Phosphoglycerate kinase)\n",
      "8. PGM (Phosphoglycerate mutase)\n",
      "9. ENO (Enolase)\n",
      "10. PYK (Pyruvate kinase)\n",
      "11. PDC (Pyruvate decarboxylase)\n",
      "12. ADH (Alcohol dehydrogenase)\n",
      "13. ATPase\n",
      "14. AK (Adenylate kinase)\n",
      "15. G3PDH (Glyceraldehyde-3-phosphate dehydrogenase)\n",
      "\u001B[0mThe list of reactions in the Pritchard2002_glycolysis model are:\n",
      "1. HK (Hexokinase)\n",
      "2. PGI (Phosphoglucose isomerase)\n",
      "3. PFK (Phosphofructokinase)\n",
      "4. ALD (Aldolase)\n",
      "5. TPI (Triosephosphate isomerase)\n",
      "6. GAPDH (Glyceraldehyde-3-phosphate dehydrogenase)\n",
      "7. PGK (Phosphoglycerate kinase)\n",
      "8. PGM (Phosphoglycerate mutase)\n",
      "9. ENO (Enolase)\n",
      "10. PYK (Pyruvate kinase)\n",
      "11. PDC (Pyruvate decarboxylase)\n",
      "12. ADH (Alcohol dehydrogenase)\n",
      "13. ATPase\n",
      "14. AK (Adenylate kinase)\n",
      "15. G3PDH (Glyceraldehyde-3-phosphate dehydrogenase)\n"
     ]
    }
   ],
   "source": [
    "print(inquirer.inquire(\"What is the list of reactions in Pritchard2002_glycolysis?\"))"
   ],
   "metadata": {
    "collapsed": false,
    "ExecuteTime": {
     "end_time": "2024-03-27T23:58:55.861002Z",
     "start_time": "2024-03-27T23:58:41.929782Z"
    }
   },
   "id": "4037caf22abf987",
   "execution_count": 12
  },
  {
   "cell_type": "code",
   "outputs": [
    {
     "name": "stdout",
     "output_type": "stream",
     "text": [
      "\u001B[1;3;38;5;200mThought: I need to use the Pritchard2002_glycolysis tool to find the kinetic law for PFK.\n",
      "Action: Pritchard2002_glycolysis\n",
      "Action Input: {'input': 'kinetic_law_PFK'}\n",
      "\u001B[0m\u001B[1;3;34mObservation: PFK: F6P + ATP -> F16bP + ADP; cell*PFK_Vmax_4*(F6P*ATP/(PFK_Kf6p_4*PFK_Katp_4) - F16bP*ADP/(PFK_Kf16bp_4*PFK_Kadp_4*PFK_Keq_4))/((1 + F6P/PFK_Kf6p_4 + F16bP/PFK_Kf16bp_4)*(1 + ATP/PFK_Katp_4 + ADP/PFK_Kadp_4));\n",
      "\u001B[0m\u001B[1;3;38;5;200mThought: I have found the kinetic law for PFK in Pritchard2002_glycolysis.\n",
      "Answer: The kinetic law for PFK in Pritchard2002_glycolysis is:\n",
      "\n",
      "PFK: F6P + ATP -> F16bP + ADP\n",
      "\n",
      "cell * PFK_Vmax_4 * (F6P * ATP / (PFK_Kf6p_4 * PFK_Katp_4) - F16bP * ADP / (PFK_Kf16bp_4 * PFK_Kadp_4 * PFK_Keq_4)) / ((1 + F6P / PFK_Kf6p_4 + F16bP / PFK_Kf16bp_4) * (1 + ATP / PFK_Katp_4 + ADP / PFK_Kadp_4))\n",
      "\n",
      "This equation represents the rate at which the PFK reaction occurs based on the concentrations of F6P, ATP, F16bP, and ADP, as well as the parameters PFK_Vmax_4, PFK_Kf6p_4, PFK_Katp_4, PFK_Kf16bp_4, PFK_Kadp_4, and PFK_Keq_4.\n",
      "\u001B[0mThe kinetic law for PFK in Pritchard2002_glycolysis is:\n",
      "\n",
      "PFK: F6P + ATP -> F16bP + ADP\n",
      "\n",
      "cell * PFK_Vmax_4 * (F6P * ATP / (PFK_Kf6p_4 * PFK_Katp_4) - F16bP * ADP / (PFK_Kf16bp_4 * PFK_Kadp_4 * PFK_Keq_4)) / ((1 + F6P / PFK_Kf6p_4 + F16bP / PFK_Kf16bp_4) * (1 + ATP / PFK_Katp_4 + ADP / PFK_Kadp_4))\n",
      "\n",
      "This equation represents the rate at which the PFK reaction occurs based on the concentrations of F6P, ATP, F16bP, and ADP, as well as the parameters PFK_Vmax_4, PFK_Kf6p_4, PFK_Katp_4, PFK_Kf16bp_4, PFK_Kadp_4, and PFK_Keq_4.\n"
     ]
    }
   ],
   "source": [
    "print(inquirer.inquire(\"What is the kinetic law for PFK in Pritchard2002_glycolysis?\"))"
   ],
   "metadata": {
    "collapsed": false,
    "ExecuteTime": {
     "end_time": "2024-03-28T00:36:45.785470Z",
     "start_time": "2024-03-28T00:36:38.156784Z"
    }
   },
   "id": "f425c3e7eb786395",
   "execution_count": 18
  },
  {
   "cell_type": "code",
   "outputs": [],
   "source": [],
   "metadata": {
    "collapsed": false
   },
   "id": "fd0123a64c3e4ea1"
  }
 ],
 "metadata": {
  "kernelspec": {
   "display_name": "Python 3",
   "language": "python",
   "name": "python3"
  },
  "language_info": {
   "codemirror_mode": {
    "name": "ipython",
    "version": 2
   },
   "file_extension": ".py",
   "mimetype": "text/x-python",
   "name": "python",
   "nbconvert_exporter": "python",
   "pygments_lexer": "ipython2",
   "version": "2.7.6"
  }
 },
 "nbformat": 4,
 "nbformat_minor": 5
}
